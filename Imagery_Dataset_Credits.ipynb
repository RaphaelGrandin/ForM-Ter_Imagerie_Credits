{
 "cells": [
  {
   "cell_type": "code",
   "execution_count": 1,
   "metadata": {},
   "outputs": [],
   "source": [
    "# Simple imagery object\n",
    "class produit_imagerie(object):\n",
    "    def __init__(self, platform = None, level = None, source = None, processing = None):\n",
    "        self.platform   = platform\n",
    "        self.level      = level\n",
    "        self.source     = source\n",
    "        self.processing = processing"
   ]
  },
  {
   "cell_type": "code",
   "execution_count": 11,
   "metadata": {},
   "outputs": [
    {
     "name": "stdout",
     "output_type": "stream",
     "text": [
      "List of recognized cases : \n",
      "  Pleiades Image Dinamis [None]\n",
      "  Pleiades Image Dinamis ['Home']\n",
      "  Pleiades Image CIEST2 ['Home']\n",
      "  Pleiades Pleiades_DEM Dinamis ['MicMac']\n",
      "  Pleiades Pleiades_DEM Dinamis ['S-CAPAD']\n",
      "  Pleiades Pleiades_DEM Dinamis ['S-CAPAD', 'MicMac']\n",
      "  Pleiades Pleiades_DEM Dinamis ['GDM-Opt']\n",
      "  Sentinel-1 SLC PEPS [None]\n",
      "  Sentinel-1 SLC PEPS ['Home']\n",
      "  Sentinel-1 SLC Flatsim [None]\n",
      "List of plaforms :  {'Sentinel-1', 'Pleiades'}\n"
     ]
    }
   ],
   "source": [
    "# List of recognized cases\n",
    "list_of_allowed_cases = []\n",
    "list_of_allowed_cases.append(produit_imagerie('Pleiades', 'Image', 'Dinamis', [None]))\n",
    "list_of_allowed_cases.append(produit_imagerie('Pleiades', 'Image', 'Dinamis', ['Home']))\n",
    "list_of_allowed_cases.append(produit_imagerie('Pleiades', 'Image', 'CIEST2', ['Home']))\n",
    "list_of_allowed_cases.append(produit_imagerie('Pleiades', 'Pleiades_DEM', 'Dinamis', ['MicMac']))\n",
    "list_of_allowed_cases.append(produit_imagerie('Pleiades', 'Pleiades_DEM', 'Dinamis', ['S-CAPAD']))\n",
    "list_of_allowed_cases.append(produit_imagerie('Pleiades', 'Pleiades_DEM', 'Dinamis', ['S-CAPAD','MicMac']))\n",
    "list_of_allowed_cases.append(produit_imagerie('Pleiades', 'Pleiades_DEM', 'Dinamis', ['GDM-Opt']))\n",
    "list_of_allowed_cases.append(produit_imagerie('Sentinel-1', 'SLC', 'PEPS', [None]))\n",
    "list_of_allowed_cases.append(produit_imagerie('Sentinel-1', 'SLC', 'PEPS', ['Home']))\n",
    "list_of_allowed_cases.append(produit_imagerie('Sentinel-1', 'SLC', 'Flatsim', [None]))\n",
    "    \n",
    "# List of allowed platforms\n",
    "list_of_allowed_platforms = set()\n",
    "print(\"List of recognized cases : \")\n",
    "for mycase in list_of_allowed_cases:\n",
    "    print(\" \",mycase.platform, mycase.level, mycase.source, mycase.processing)\n",
    "    list_of_allowed_platforms.add(mycase.platform)\n",
    "    \n",
    "print('List of plaforms : ', list_of_allowed_platforms)"
   ]
  },
  {
   "cell_type": "code",
   "execution_count": 3,
   "metadata": {},
   "outputs": [],
   "source": [
    "# List of acknowledgements\n",
    "dict_acknow = dict()\n",
    "dict_acknow['Dinamis'] = 'Access to Pleiades data was granted through the DINAMIS program (https://dinamis.teledetection.fr/) via project ID 20XX-XX-XX (PI: YYYY, YYYY@myemail.fr).'\n",
    "dict_acknow['Dinamis'] = 'Access to Pleiades data was granted through the CIEST2 program (https://www.poleterresolide.fr/ciest-2-nouvelle-generation-2/).'\n",
    "dict_acknow['S-CAPAD'] = 'Calculation of the Pleiades DSM used the S-CAPAD cluster of IPGP.'\n",
    "dict_acknow['Pleiades'] = 'The underlying dataset from which this work has been derived includes Pleiades material ©CNES (Year of image acquisition), distributed by AIRBUS DS.'\n",
    "dict_acknow['Sentinel-1'] = 'The underlying dataset from which this work has been derived includes EO material ©CCME (Year of image acquisition), provided under COPERNICUS by the European Union and ESA.'"
   ]
  },
  {
   "cell_type": "code",
   "execution_count": 14,
   "metadata": {},
   "outputs": [],
   "source": [
    "# List of licences\n",
    "dict_licenc = dict()\n",
    "dict_licenc['Dinamis'] = 2\n",
    "dict_licenc['Pleiades_DEM'] = 3\n",
    "dict_licenc['Flatsim'] = 3\n",
    "dict_licenc['GDMSAR'] = 2\n",
    "\n",
    "# Meaning of the licence codes\n",
    "codes_licenc = dict()\n",
    "codes_licenc[0] = 'This dataset is licenced under a Creative Commons Zero (Public Domain).'\n",
    "codes_licenc[1] = 'This dataset is licensed under a Creative Commons CC BY 4.0 International License (Attribution).'\n",
    "codes_licenc[2] = 'This dataset is licensed under a Creative Commons CC BY-SA 4.0 International License (Attribution-ShareAlike).'\n",
    "codes_licenc[3] = 'This dataset is licensed under a Creative Commons CC BY-NC 4.0 International License (Attribution-NonCommercial).'\n",
    "codes_licenc[4] = 'This dataset is licensed under a Creative Commons CC BY-NC-SA 4.0 International License (Attribution-NonCommercial-ShareAlike).'\n",
    "codes_licenc[5] = 'This dataset is licensed under a Creative Commons CC BY-ND 4.0 International License (Attribution-NoDerivatives).'\n",
    "codes_licenc[6] = 'This dataset is licensed under a Creative Commons CC BY-NC-ND 4.0 International License (Attribution-NonCommercial-NoDerivatives).'\n"
   ]
  },
  {
   "cell_type": "code",
   "execution_count": 5,
   "metadata": {},
   "outputs": [],
   "source": [
    "# List of citations\n",
    "dict_citation = dict()\n",
    "dict_citation['Flatsim'] = 'Thollard et al. (2021).'\n",
    "dict_citation['MicMac'] = 'Rupnik et al. (2017).'\n"
   ]
  },
  {
   "cell_type": "code",
   "execution_count": 6,
   "metadata": {},
   "outputs": [],
   "source": [
    "# Check whether your imagery object belongs to the list of recognized cases\n",
    "class check_imagerie(object):\n",
    "\n",
    "    # First, check the platform\n",
    "    def get_platform(self):\n",
    "        return self.__platform\n",
    "    def set_platform(self, value):\n",
    "        if value in list_of_allowed_platforms:\n",
    "            self.__platform = value\n",
    "        else:\n",
    "            raise TypeError(\"Platform name can be %s\" % list_of_allowed_platforms)\n",
    "    platform = property(get_platform, set_platform)\n",
    "\n",
    "    # Next, define the level\n",
    "    def get_level(self):\n",
    "        return self.__level\n",
    "    def set_level(self, value):\n",
    "        try:\n",
    "            self.platform\n",
    "        except:\n",
    "            print(\"Please define a platform\")\n",
    "        else:\n",
    "            list_of_allowed_levels = set()\n",
    "            for mycase in list_of_allowed_cases:\n",
    "                if mycase.platform == self.platform:\n",
    "                    list_of_allowed_levels.add(mycase.level)\n",
    "            if value in list_of_allowed_levels:\n",
    "                self.__level = value\n",
    "            else:\n",
    "                raise TypeError(\"Level can be %s\" % list_of_allowed_levels)\n",
    "    level = property(get_level, set_level)\n",
    "\n",
    "    # Then, tell us from what source you got the data\n",
    "    def get_source(self):\n",
    "        return self.__source\n",
    "    def set_source(self, value):\n",
    "        try:\n",
    "            self.level\n",
    "        except:\n",
    "            print(\"Please define a level\")\n",
    "        else:\n",
    "            list_of_allowed_sources = set()\n",
    "            for mycase in list_of_allowed_cases:\n",
    "                if mycase.platform == self.platform and mycase.level == self.level:\n",
    "                    list_of_allowed_sources.add(mycase.source)\n",
    "            if value in list_of_allowed_sources:\n",
    "                self.__source = value\n",
    "            else:\n",
    "                raise TypeError(\"Source can be %s\" % list_of_allowed_sources)\n",
    "    source = property(get_source, set_source)\n",
    "\n",
    "    # Finally, mention if you applied some processing to the data\n",
    "    def get_processing(self):\n",
    "        return self.__processing\n",
    "    def set_processing(self, value):\n",
    "        try:\n",
    "            self.source\n",
    "        except:\n",
    "            print(\"Please define a source\")\n",
    "        else:\n",
    "            list_of_allowed_processings = set()\n",
    "            for mycase in list_of_allowed_cases:\n",
    "                if mycase.platform == self.platform and mycase.level == self.level and mycase.source == self.source:\n",
    "                    for my_processing in mycase.processing:\n",
    "                        list_of_allowed_processings.add(my_processing)\n",
    "            if set(value).issubset(list_of_allowed_processings):\n",
    "                self.__processing = value\n",
    "            else:\n",
    "                raise TypeError(\"Processing can be %s\" % list_of_allowed_processings)\n",
    "    processing = property(get_processing, set_processing)\n",
    "    \n",
    "    def get_acknowledgments_licence(self):\n",
    "        try:\n",
    "            self.source; self.processing;\n",
    "        except:\n",
    "            print(\"Not all attributes have been set...\")\n",
    "        else:\n",
    "            licence = set(); ackowledgement = set(); citation = set();\n",
    "            for mycase in list_of_allowed_cases:\n",
    "                if mycase.platform == self.platform:\n",
    "                    if self.platform in dict_acknow:\n",
    "                        ackowledgement.add(dict_acknow[self.platform])\n",
    "                    if self.platform in dict_licenc:\n",
    "                        licence.add(dict_licenc[self.platform])\n",
    "                    if self.platform in dict_citation:\n",
    "                        citation.add(dict_citation[self.platform])\n",
    "                if mycase.level == self.level:\n",
    "                    if self.level in dict_acknow:\n",
    "                        ackowledgement.add(dict_acknow[self.level])\n",
    "                    if self.level in dict_licenc:\n",
    "                        licence.add(dict_licenc[self.level])\n",
    "                    if self.level in dict_citation:\n",
    "                        citation.add(dict_citation[self.level])\n",
    "                if mycase.source == self.source:\n",
    "                    if self.source in dict_acknow:\n",
    "                        ackowledgement.add(dict_acknow[self.source])\n",
    "                    if self.source in dict_licenc:\n",
    "                        licence.add(dict_licenc[self.source])\n",
    "                    if self.source in dict_citation:\n",
    "                        citation.add(dict_citation[self.source])\n",
    "                if set(mycase.processing).issubset(set(self.processing)):\n",
    "                    if set(mycase.processing).issubset(set(dict_acknow.keys())):\n",
    "                        for myprocessing in mycase.processing:\n",
    "                            ackowledgement.add(dict_acknow[myprocessing])\n",
    "                    if set(mycase.processing).issubset(set(dict_licenc.keys())):\n",
    "                        for myprocessing in mycase.processing:\n",
    "                            licence.add(dict_licenc[myprocessing])\n",
    "                    if set(mycase.processing).issubset(set(dict_citation.keys())):\n",
    "                        for myprocessing in mycase.processing:\n",
    "                            citation.add(dict_citation[myprocessing])\n",
    "            if len(licence)>0: print('Licence : \\n',codes_licenc[max(licence)]) # Take the most restrictive licence\n",
    "            if len(ackowledgement)>0: print('Acknowledgement : \\n',\" \".join(ackowledgement))\n",
    "            if len(citation)>0: print('Citation : \\n',\" \".join(citation))\n"
   ]
  },
  {
   "cell_type": "code",
   "execution_count": 7,
   "metadata": {},
   "outputs": [
    {
     "name": "stdout",
     "output_type": "stream",
     "text": [
      "Licence : \n",
      " This dataset is licensed under a Creative Commons CC BY-NC 4.0 International License (Attribution-NonCommercial).\n",
      "Acknowledgement : \n",
      " Access to Pleiades data was granted through the CIEST2 program (https://www.poleterresolide.fr/ciest-2-nouvelle-generation-2/). Calculation of the Pleiades DSM used the S-CAPAD cluster of IPGP. The underlying dataset from which this work has been derived includes Pleiades material ©CNES (Year of image acquisition), distributed by AIRBUS DS.\n"
     ]
    }
   ],
   "source": [
    "# What licence / acknowledgements do I need for my case?\n",
    "x = check_imagerie();\n",
    "x.platform = 'Pleiades'; x.level = 'Pleiades_DEM'; x.source = 'Dinamis'; x.processing = ['S-CAPAD']; #print(x.__dict__);\n",
    "x.get_acknowledgments_licence()"
   ]
  },
  {
   "cell_type": "code",
   "execution_count": 8,
   "metadata": {},
   "outputs": [
    {
     "name": "stdout",
     "output_type": "stream",
     "text": [
      "Licence : \n",
      " This dataset is licensed under a Creative Commons CC BY-NC 4.0 International License (Attribution-NonCommercial).\n",
      "Acknowledgement : \n",
      " Access to Pleiades data was granted through the CIEST2 program (https://www.poleterresolide.fr/ciest-2-nouvelle-generation-2/). Calculation of the Pleiades DSM used the S-CAPAD cluster of IPGP. The underlying dataset from which this work has been derived includes Pleiades material ©CNES (Year of image acquisition), distributed by AIRBUS DS.\n",
      "Citation : \n",
      " Rupnik et al. (2017).\n"
     ]
    }
   ],
   "source": [
    "# What licence / acknowledgements do I need for my case?\n",
    "x = check_imagerie();\n",
    "x.platform = 'Pleiades'; x.level = 'Pleiades_DEM'; x.source = 'Dinamis'; x.processing = ['S-CAPAD','MicMac']; #print(x.__dict__);\n",
    "x.get_acknowledgments_licence()"
   ]
  },
  {
   "cell_type": "code",
   "execution_count": 15,
   "metadata": {},
   "outputs": [
    {
     "ename": "TypeError",
     "evalue": "Level can be {'SLC'}",
     "output_type": "error",
     "traceback": [
      "\u001b[0;31m---------------------------------------------------------------------------\u001b[0m",
      "\u001b[0;31mTypeError\u001b[0m                                 Traceback (most recent call last)",
      "\u001b[0;32m<ipython-input-15-141ffe5d34ac>\u001b[0m in \u001b[0;36m<module>\u001b[0;34m\u001b[0m\n\u001b[1;32m      1\u001b[0m \u001b[0;31m# What licence / acknowledgements do I need for my case?\u001b[0m\u001b[0;34m\u001b[0m\u001b[0;34m\u001b[0m\u001b[0;34m\u001b[0m\u001b[0m\n\u001b[1;32m      2\u001b[0m \u001b[0mx\u001b[0m \u001b[0;34m=\u001b[0m \u001b[0mcheck_imagerie\u001b[0m\u001b[0;34m(\u001b[0m\u001b[0;34m)\u001b[0m\u001b[0;34m;\u001b[0m\u001b[0;34m\u001b[0m\u001b[0;34m\u001b[0m\u001b[0m\n\u001b[0;32m----> 3\u001b[0;31m \u001b[0mx\u001b[0m\u001b[0;34m.\u001b[0m\u001b[0mplatform\u001b[0m \u001b[0;34m=\u001b[0m \u001b[0;34m'Sentinel-1'\u001b[0m\u001b[0;34m;\u001b[0m \u001b[0mx\u001b[0m\u001b[0;34m.\u001b[0m\u001b[0mlevel\u001b[0m \u001b[0;34m=\u001b[0m \u001b[0;34m'Pleiades_DEM'\u001b[0m\u001b[0;34m;\u001b[0m \u001b[0mx\u001b[0m\u001b[0;34m.\u001b[0m\u001b[0msource\u001b[0m \u001b[0;34m=\u001b[0m \u001b[0;34m'Dinamis'\u001b[0m\u001b[0;34m;\u001b[0m \u001b[0mx\u001b[0m\u001b[0;34m.\u001b[0m\u001b[0mprocessing\u001b[0m \u001b[0;34m=\u001b[0m \u001b[0;34m[\u001b[0m\u001b[0;34m'S-CAPAD'\u001b[0m\u001b[0;34m,\u001b[0m\u001b[0;34m'MicMac'\u001b[0m\u001b[0;34m]\u001b[0m\u001b[0;34m;\u001b[0m \u001b[0;31m#print(x.__dict__);\u001b[0m\u001b[0;34m\u001b[0m\u001b[0;34m\u001b[0m\u001b[0m\n\u001b[0m\u001b[1;32m      4\u001b[0m \u001b[0mx\u001b[0m\u001b[0;34m.\u001b[0m\u001b[0mget_acknowledgments_licence\u001b[0m\u001b[0;34m(\u001b[0m\u001b[0;34m)\u001b[0m\u001b[0;34m\u001b[0m\u001b[0;34m\u001b[0m\u001b[0m\n",
      "\u001b[0;32m<ipython-input-6-f3b82370b2c5>\u001b[0m in \u001b[0;36mset_level\u001b[0;34m(self, value)\u001b[0m\n\u001b[1;32m     28\u001b[0m                 \u001b[0mself\u001b[0m\u001b[0;34m.\u001b[0m\u001b[0m__level\u001b[0m \u001b[0;34m=\u001b[0m \u001b[0mvalue\u001b[0m\u001b[0;34m\u001b[0m\u001b[0;34m\u001b[0m\u001b[0m\n\u001b[1;32m     29\u001b[0m             \u001b[0;32melse\u001b[0m\u001b[0;34m:\u001b[0m\u001b[0;34m\u001b[0m\u001b[0;34m\u001b[0m\u001b[0m\n\u001b[0;32m---> 30\u001b[0;31m                 \u001b[0;32mraise\u001b[0m \u001b[0mTypeError\u001b[0m\u001b[0;34m(\u001b[0m\u001b[0;34m\"Level can be %s\"\u001b[0m \u001b[0;34m%\u001b[0m \u001b[0mlist_of_allowed_levels\u001b[0m\u001b[0;34m)\u001b[0m\u001b[0;34m\u001b[0m\u001b[0;34m\u001b[0m\u001b[0m\n\u001b[0m\u001b[1;32m     31\u001b[0m     \u001b[0mlevel\u001b[0m \u001b[0;34m=\u001b[0m \u001b[0mproperty\u001b[0m\u001b[0;34m(\u001b[0m\u001b[0mget_level\u001b[0m\u001b[0;34m,\u001b[0m \u001b[0mset_level\u001b[0m\u001b[0;34m)\u001b[0m\u001b[0;34m\u001b[0m\u001b[0;34m\u001b[0m\u001b[0m\n\u001b[1;32m     32\u001b[0m \u001b[0;34m\u001b[0m\u001b[0m\n",
      "\u001b[0;31mTypeError\u001b[0m: Level can be {'SLC'}"
     ]
    }
   ],
   "source": [
    "# What licence / acknowledgements do I need for my case?\n",
    "x = check_imagerie();\n",
    "x.platform = 'Sentinel-1'; x.level = 'Pleiades_DEM'; x.source = 'Dinamis'; x.processing = ['S-CAPAD','MicMac']; #print(x.__dict__);\n",
    "x.get_acknowledgments_licence()"
   ]
  },
  {
   "cell_type": "code",
   "execution_count": 16,
   "metadata": {},
   "outputs": [
    {
     "name": "stdout",
     "output_type": "stream",
     "text": [
      "Licence : \n",
      " This dataset is licensed under a Creative Commons CC BY-NC 4.0 International License (Attribution-NonCommercial).\n",
      "Acknowledgement : \n",
      " The underlying dataset from which this work has been derived includes EO material ©CCME (Year of image acquisition), provided under COPERNICUS by the European Union and ESA.\n",
      "Citation : \n",
      " Thollard et al. (2021).\n"
     ]
    }
   ],
   "source": [
    "# What licence / acknowledgements do I need for my case?\n",
    "x = check_imagerie();\n",
    "x.platform = 'Sentinel-1'; x.level = 'SLC'; x.source = 'Flatsim'; x.processing = [None]; #print(x.__dict__);\n",
    "x.get_acknowledgments_licence()"
   ]
  },
  {
   "cell_type": "code",
   "execution_count": null,
   "metadata": {},
   "outputs": [],
   "source": []
  }
 ],
 "metadata": {
  "kernelspec": {
   "display_name": "Python 3",
   "language": "python",
   "name": "python3"
  },
  "language_info": {
   "codemirror_mode": {
    "name": "ipython",
    "version": 3
   },
   "file_extension": ".py",
   "mimetype": "text/x-python",
   "name": "python",
   "nbconvert_exporter": "python",
   "pygments_lexer": "ipython3",
   "version": "3.8.5"
  }
 },
 "nbformat": 4,
 "nbformat_minor": 4
}
